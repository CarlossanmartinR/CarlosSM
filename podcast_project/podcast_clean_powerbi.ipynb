{
 "cells": [
  {
   "cell_type": "markdown",
   "metadata": {},
   "source": [
    "# 🧼 Preprocesamiento para Visualización en Power BI\r\n",
    "\r\n",
    "Este notebook tiene como único objetivo preparar una versión del dataset `df_train` adecuada para visualización en Power BI.\r\n",
    "\r\n",
    "## 🎯 Objetivo\r\n",
    "\r\n",
    "En lugar de preparar los datos para modelado, aquí eliminamos valores extremos (outliers) utilizando el método de los cuartiles (IQR), con el fin de:\r\n",
    "\r\n",
    "- Evitar que valores anómalos distorsionen los gráficos en Power BI.\r\n",
    "- Generar una visualización clara y representativa del comportamiento real de los datos.\r\n",
    "\r\n",
    "## ⚠️ Importante\r\n",
    "\r\n",
    "A diferencia del notebook de modelado, **en esta versión los outliers son eliminados (filtrados)**, y no recortados (`clip()`). Por lo tanto, los resultados **no son válidos para modelado predictivo** (ya que hay menos observaciones), sino exclusivamente para exploración visual.\r\n",
    "\r\n",
    "## 📤 Resultado\r\n",
    "\r\n",
    "Se genera un archivo `podcast_dataset_powerbi.csv` con los datos procesados y listos para ser importados en Power BI Desktop.\r\n"
   ]
  },
  {
   "cell_type": "code",
   "execution_count": 2,
   "metadata": {},
   "outputs": [],
   "source": [
    "# Instala la librería kaggle\n",
    "!pip install -q kaggle\n",
    "\n",
    "# Carga la API key desde un archivo local (NO subir kaggle.json a GitHub)\n",
    "import os\n",
    "import json\n",
    "\n",
    "with open(\"kaggle.json\") as f:\n",
    "    kaggle_api = json.load(f)\n",
    "\n",
    "os.environ[\"KAGGLE_USERNAME\"] = kaggle_api[\"username\"]\n",
    "os.environ[\"KAGGLE_KEY\"] = kaggle_api[\"key\"]\n"
   ]
  },
  {
   "cell_type": "code",
   "execution_count": 3,
   "metadata": {},
   "outputs": [
    {
     "name": "stdout",
     "output_type": "stream",
     "text": [
      "playground-series-s5e4.zip: Skipping, found more recently modified local copy (use --force to force download)\n"
     ]
    }
   ],
   "source": [
    "# Descargar y descomprimir el dataset desde Kaggle\n",
    "!kaggle competitions download -c playground-series-s5e4\n",
    "\n",
    "import zipfile\n",
    "with zipfile.ZipFile(\"playground-series-s5e4.zip\", \"r\") as zip_ref:\n",
    "    zip_ref.extractall(\"playground-series-s5e4\")\n"
   ]
  },
  {
   "cell_type": "code",
   "execution_count": 4,
   "metadata": {
    "id": "4bdm4DfF27em"
   },
   "outputs": [],
   "source": [
    "# This Python 3 environment comes with many helpful analytics libraries installed\n",
    "# It is defined by the kaggle/python Docker image: https://github.com/kaggle/docker-python\n",
    "# For example, here's several helpful packages to load\n",
    "\n",
    "import numpy as np # linear algebra\n",
    "import pandas as pd # data processing, CSV file I/O (e.g. pd.read_csv)\n",
    "\n",
    "# Input data files are available in the read-only \"../input/\" directory\n",
    "# For example, running this (by clicking run or pressing Shift+Enter) will list all files under the input directory\n",
    "\n",
    "import os\n",
    "for dirname, _, filenames in os.walk('/kaggle/input'):\n",
    "    for filename in filenames:\n",
    "        print(os.path.join(dirname, filename))\n",
    "\n",
    "# You can write up to 20GB to the current directory (/kaggle/working/) that gets preserved as output when you create a version using \"Save & Run All\"\n",
    "# You can also write temporary files to /kaggle/temp/, but they won't be saved outside of the current session"
   ]
  },
  {
   "cell_type": "code",
   "execution_count": 5,
   "metadata": {
    "id": "UHuNg9Tu27eo"
   },
   "outputs": [],
   "source": [
    "import pandas as pd\n",
    "from sklearn.ensemble import RandomForestRegressor\n",
    "from sklearn.metrics import mean_absolute_error\n",
    "from sklearn.model_selection import train_test_split\n",
    "import seaborn as sns\n",
    "import numpy as np\n",
    "import matplotlib.pyplot as plt"
   ]
  },
  {
   "cell_type": "code",
   "execution_count": 6,
   "metadata": {
    "id": "Z39tlRiY3NI0"
   },
   "outputs": [
    {
     "name": "stdout",
     "output_type": "stream",
     "text": [
      "playground-series-s5e4.zip: Skipping, found more recently modified local copy (use --force to force download)\n"
     ]
    }
   ],
   "source": [
    "# Descargar el dataset de la competencia predidct-podcast-listening-time\n",
    "!kaggle competitions download -c playground-series-s5e4"
   ]
  },
  {
   "cell_type": "code",
   "execution_count": 7,
   "metadata": {
    "id": "5Rintn303Pn8"
   },
   "outputs": [],
   "source": [
    "import zipfile\n",
    "\n",
    "with zipfile.ZipFile(\"playground-series-s5e4.zip\", \"r\") as zip_ref:\n",
    "    zip_ref.extractall(\"playground-series-s5e4\")"
   ]
  },
  {
   "cell_type": "code",
   "execution_count": 8,
   "metadata": {
    "id": "6DPgWMTC3Qe8"
   },
   "outputs": [],
   "source": [
    "df_train = pd.read_csv(\"playground-series-s5e4/train.csv\")\n",
    "df_test = pd.read_csv(\"playground-series-s5e4/test.csv\")"
   ]
  },
  {
   "cell_type": "code",
   "execution_count": 9,
   "metadata": {
    "colab": {
     "base_uri": "https://localhost:8080/",
     "height": 261
    },
    "id": "U4tGQxO14KQP",
    "outputId": "aa900152-e53b-4bb4-88b5-a208cb14ac4b"
   },
   "outputs": [
    {
     "data": {
      "text/html": [
       "<div>\n",
       "<style scoped>\n",
       "    .dataframe tbody tr th:only-of-type {\n",
       "        vertical-align: middle;\n",
       "    }\n",
       "\n",
       "    .dataframe tbody tr th {\n",
       "        vertical-align: top;\n",
       "    }\n",
       "\n",
       "    .dataframe thead th {\n",
       "        text-align: right;\n",
       "    }\n",
       "</style>\n",
       "<table border=\"1\" class=\"dataframe\">\n",
       "  <thead>\n",
       "    <tr style=\"text-align: right;\">\n",
       "      <th></th>\n",
       "      <th>id</th>\n",
       "      <th>Podcast_Name</th>\n",
       "      <th>Episode_Title</th>\n",
       "      <th>Episode_Length_minutes</th>\n",
       "      <th>Genre</th>\n",
       "      <th>Host_Popularity_percentage</th>\n",
       "      <th>Publication_Day</th>\n",
       "      <th>Publication_Time</th>\n",
       "      <th>Guest_Popularity_percentage</th>\n",
       "      <th>Number_of_Ads</th>\n",
       "      <th>Episode_Sentiment</th>\n",
       "      <th>Listening_Time_minutes</th>\n",
       "    </tr>\n",
       "  </thead>\n",
       "  <tbody>\n",
       "    <tr>\n",
       "      <th>0</th>\n",
       "      <td>0</td>\n",
       "      <td>Mystery Matters</td>\n",
       "      <td>Episode 98</td>\n",
       "      <td>NaN</td>\n",
       "      <td>True Crime</td>\n",
       "      <td>74.81</td>\n",
       "      <td>Thursday</td>\n",
       "      <td>Night</td>\n",
       "      <td>NaN</td>\n",
       "      <td>0.0</td>\n",
       "      <td>Positive</td>\n",
       "      <td>31.41998</td>\n",
       "    </tr>\n",
       "    <tr>\n",
       "      <th>1</th>\n",
       "      <td>1</td>\n",
       "      <td>Joke Junction</td>\n",
       "      <td>Episode 26</td>\n",
       "      <td>119.80</td>\n",
       "      <td>Comedy</td>\n",
       "      <td>66.95</td>\n",
       "      <td>Saturday</td>\n",
       "      <td>Afternoon</td>\n",
       "      <td>75.95</td>\n",
       "      <td>2.0</td>\n",
       "      <td>Negative</td>\n",
       "      <td>88.01241</td>\n",
       "    </tr>\n",
       "    <tr>\n",
       "      <th>2</th>\n",
       "      <td>2</td>\n",
       "      <td>Study Sessions</td>\n",
       "      <td>Episode 16</td>\n",
       "      <td>73.90</td>\n",
       "      <td>Education</td>\n",
       "      <td>69.97</td>\n",
       "      <td>Tuesday</td>\n",
       "      <td>Evening</td>\n",
       "      <td>8.97</td>\n",
       "      <td>0.0</td>\n",
       "      <td>Negative</td>\n",
       "      <td>44.92531</td>\n",
       "    </tr>\n",
       "    <tr>\n",
       "      <th>3</th>\n",
       "      <td>3</td>\n",
       "      <td>Digital Digest</td>\n",
       "      <td>Episode 45</td>\n",
       "      <td>67.17</td>\n",
       "      <td>Technology</td>\n",
       "      <td>57.22</td>\n",
       "      <td>Monday</td>\n",
       "      <td>Morning</td>\n",
       "      <td>78.70</td>\n",
       "      <td>2.0</td>\n",
       "      <td>Positive</td>\n",
       "      <td>46.27824</td>\n",
       "    </tr>\n",
       "    <tr>\n",
       "      <th>4</th>\n",
       "      <td>4</td>\n",
       "      <td>Mind &amp; Body</td>\n",
       "      <td>Episode 86</td>\n",
       "      <td>110.51</td>\n",
       "      <td>Health</td>\n",
       "      <td>80.07</td>\n",
       "      <td>Monday</td>\n",
       "      <td>Afternoon</td>\n",
       "      <td>58.68</td>\n",
       "      <td>3.0</td>\n",
       "      <td>Neutral</td>\n",
       "      <td>75.61031</td>\n",
       "    </tr>\n",
       "  </tbody>\n",
       "</table>\n",
       "</div>"
      ],
      "text/plain": [
       "   id     Podcast_Name Episode_Title  Episode_Length_minutes       Genre  \\\n",
       "0   0  Mystery Matters    Episode 98                     NaN  True Crime   \n",
       "1   1    Joke Junction    Episode 26                  119.80      Comedy   \n",
       "2   2   Study Sessions    Episode 16                   73.90   Education   \n",
       "3   3   Digital Digest    Episode 45                   67.17  Technology   \n",
       "4   4      Mind & Body    Episode 86                  110.51      Health   \n",
       "\n",
       "   Host_Popularity_percentage Publication_Day Publication_Time  \\\n",
       "0                       74.81        Thursday            Night   \n",
       "1                       66.95        Saturday        Afternoon   \n",
       "2                       69.97         Tuesday          Evening   \n",
       "3                       57.22          Monday          Morning   \n",
       "4                       80.07          Monday        Afternoon   \n",
       "\n",
       "   Guest_Popularity_percentage  Number_of_Ads Episode_Sentiment  \\\n",
       "0                          NaN            0.0          Positive   \n",
       "1                        75.95            2.0          Negative   \n",
       "2                         8.97            0.0          Negative   \n",
       "3                        78.70            2.0          Positive   \n",
       "4                        58.68            3.0           Neutral   \n",
       "\n",
       "   Listening_Time_minutes  \n",
       "0                31.41998  \n",
       "1                88.01241  \n",
       "2                44.92531  \n",
       "3                46.27824  \n",
       "4                75.61031  "
      ]
     },
     "execution_count": 9,
     "metadata": {},
     "output_type": "execute_result"
    }
   ],
   "source": [
    "df_train.head()"
   ]
  },
  {
   "cell_type": "code",
   "execution_count": 10,
   "metadata": {
    "colab": {
     "base_uri": "https://localhost:8080/"
    },
    "id": "LNnrO0Ds27ep",
    "outputId": "47b3b120-bcb9-4525-dfbe-bcd4c0b7e052"
   },
   "outputs": [
    {
     "name": "stdout",
     "output_type": "stream",
     "text": [
      "<class 'pandas.core.frame.DataFrame'>\n",
      "RangeIndex: 750000 entries, 0 to 749999\n",
      "Data columns (total 12 columns):\n",
      " #   Column                       Non-Null Count   Dtype  \n",
      "---  ------                       --------------   -----  \n",
      " 0   id                           750000 non-null  int64  \n",
      " 1   Podcast_Name                 750000 non-null  object \n",
      " 2   Episode_Title                750000 non-null  object \n",
      " 3   Episode_Length_minutes       662907 non-null  float64\n",
      " 4   Genre                        750000 non-null  object \n",
      " 5   Host_Popularity_percentage   750000 non-null  float64\n",
      " 6   Publication_Day              750000 non-null  object \n",
      " 7   Publication_Time             750000 non-null  object \n",
      " 8   Guest_Popularity_percentage  603970 non-null  float64\n",
      " 9   Number_of_Ads                749999 non-null  float64\n",
      " 10  Episode_Sentiment            750000 non-null  object \n",
      " 11  Listening_Time_minutes       750000 non-null  float64\n",
      "dtypes: float64(5), int64(1), object(6)\n",
      "memory usage: 68.7+ MB\n"
     ]
    }
   ],
   "source": [
    "df_train.info()"
   ]
  },
  {
   "cell_type": "code",
   "execution_count": 11,
   "metadata": {
    "colab": {
     "base_uri": "https://localhost:8080/",
     "height": 301
    },
    "id": "Jm_zdn5J27ep",
    "outputId": "bddca004-9437-40bc-bc95-cca2b48e0e31"
   },
   "outputs": [
    {
     "data": {
      "text/html": [
       "<div>\n",
       "<style scoped>\n",
       "    .dataframe tbody tr th:only-of-type {\n",
       "        vertical-align: middle;\n",
       "    }\n",
       "\n",
       "    .dataframe tbody tr th {\n",
       "        vertical-align: top;\n",
       "    }\n",
       "\n",
       "    .dataframe thead th {\n",
       "        text-align: right;\n",
       "    }\n",
       "</style>\n",
       "<table border=\"1\" class=\"dataframe\">\n",
       "  <thead>\n",
       "    <tr style=\"text-align: right;\">\n",
       "      <th></th>\n",
       "      <th>id</th>\n",
       "      <th>Episode_Length_minutes</th>\n",
       "      <th>Host_Popularity_percentage</th>\n",
       "      <th>Guest_Popularity_percentage</th>\n",
       "      <th>Number_of_Ads</th>\n",
       "      <th>Listening_Time_minutes</th>\n",
       "    </tr>\n",
       "  </thead>\n",
       "  <tbody>\n",
       "    <tr>\n",
       "      <th>count</th>\n",
       "      <td>750000.000000</td>\n",
       "      <td>662907.000000</td>\n",
       "      <td>750000.000000</td>\n",
       "      <td>603970.000000</td>\n",
       "      <td>749999.000000</td>\n",
       "      <td>750000.000000</td>\n",
       "    </tr>\n",
       "    <tr>\n",
       "      <th>mean</th>\n",
       "      <td>374999.500000</td>\n",
       "      <td>64.504738</td>\n",
       "      <td>59.859901</td>\n",
       "      <td>52.236449</td>\n",
       "      <td>1.348855</td>\n",
       "      <td>45.437406</td>\n",
       "    </tr>\n",
       "    <tr>\n",
       "      <th>std</th>\n",
       "      <td>216506.495284</td>\n",
       "      <td>32.969603</td>\n",
       "      <td>22.873098</td>\n",
       "      <td>28.451241</td>\n",
       "      <td>1.151130</td>\n",
       "      <td>27.138306</td>\n",
       "    </tr>\n",
       "    <tr>\n",
       "      <th>min</th>\n",
       "      <td>0.000000</td>\n",
       "      <td>0.000000</td>\n",
       "      <td>1.300000</td>\n",
       "      <td>0.000000</td>\n",
       "      <td>0.000000</td>\n",
       "      <td>0.000000</td>\n",
       "    </tr>\n",
       "    <tr>\n",
       "      <th>25%</th>\n",
       "      <td>187499.750000</td>\n",
       "      <td>35.730000</td>\n",
       "      <td>39.410000</td>\n",
       "      <td>28.380000</td>\n",
       "      <td>0.000000</td>\n",
       "      <td>23.178350</td>\n",
       "    </tr>\n",
       "    <tr>\n",
       "      <th>50%</th>\n",
       "      <td>374999.500000</td>\n",
       "      <td>63.840000</td>\n",
       "      <td>60.050000</td>\n",
       "      <td>53.580000</td>\n",
       "      <td>1.000000</td>\n",
       "      <td>43.379460</td>\n",
       "    </tr>\n",
       "    <tr>\n",
       "      <th>75%</th>\n",
       "      <td>562499.250000</td>\n",
       "      <td>94.070000</td>\n",
       "      <td>79.530000</td>\n",
       "      <td>76.600000</td>\n",
       "      <td>2.000000</td>\n",
       "      <td>64.811580</td>\n",
       "    </tr>\n",
       "    <tr>\n",
       "      <th>max</th>\n",
       "      <td>749999.000000</td>\n",
       "      <td>325.240000</td>\n",
       "      <td>119.460000</td>\n",
       "      <td>119.910000</td>\n",
       "      <td>103.910000</td>\n",
       "      <td>119.970000</td>\n",
       "    </tr>\n",
       "  </tbody>\n",
       "</table>\n",
       "</div>"
      ],
      "text/plain": [
       "                  id  Episode_Length_minutes  Host_Popularity_percentage  \\\n",
       "count  750000.000000           662907.000000               750000.000000   \n",
       "mean   374999.500000               64.504738                   59.859901   \n",
       "std    216506.495284               32.969603                   22.873098   \n",
       "min         0.000000                0.000000                    1.300000   \n",
       "25%    187499.750000               35.730000                   39.410000   \n",
       "50%    374999.500000               63.840000                   60.050000   \n",
       "75%    562499.250000               94.070000                   79.530000   \n",
       "max    749999.000000              325.240000                  119.460000   \n",
       "\n",
       "       Guest_Popularity_percentage  Number_of_Ads  Listening_Time_minutes  \n",
       "count                603970.000000  749999.000000           750000.000000  \n",
       "mean                     52.236449       1.348855               45.437406  \n",
       "std                      28.451241       1.151130               27.138306  \n",
       "min                       0.000000       0.000000                0.000000  \n",
       "25%                      28.380000       0.000000               23.178350  \n",
       "50%                      53.580000       1.000000               43.379460  \n",
       "75%                      76.600000       2.000000               64.811580  \n",
       "max                     119.910000     103.910000              119.970000  "
      ]
     },
     "execution_count": 11,
     "metadata": {},
     "output_type": "execute_result"
    }
   ],
   "source": [
    "df_train.describe()"
   ]
  },
  {
   "cell_type": "code",
   "execution_count": 12,
   "metadata": {
    "colab": {
     "base_uri": "https://localhost:8080/",
     "height": 238
    },
    "id": "tnUvpZGn27ep",
    "outputId": "ba2380b0-4704-438c-cbd8-59377e38e78e"
   },
   "outputs": [
    {
     "data": {
      "text/html": [
       "<div>\n",
       "<style scoped>\n",
       "    .dataframe tbody tr th:only-of-type {\n",
       "        vertical-align: middle;\n",
       "    }\n",
       "\n",
       "    .dataframe tbody tr th {\n",
       "        vertical-align: top;\n",
       "    }\n",
       "\n",
       "    .dataframe thead th {\n",
       "        text-align: right;\n",
       "    }\n",
       "</style>\n",
       "<table border=\"1\" class=\"dataframe\">\n",
       "  <thead>\n",
       "    <tr style=\"text-align: right;\">\n",
       "      <th></th>\n",
       "      <th>count</th>\n",
       "      <th>unique</th>\n",
       "      <th>top</th>\n",
       "      <th>freq</th>\n",
       "    </tr>\n",
       "  </thead>\n",
       "  <tbody>\n",
       "    <tr>\n",
       "      <th>Podcast_Name</th>\n",
       "      <td>750000</td>\n",
       "      <td>48</td>\n",
       "      <td>Tech Talks</td>\n",
       "      <td>22847</td>\n",
       "    </tr>\n",
       "    <tr>\n",
       "      <th>Episode_Title</th>\n",
       "      <td>750000</td>\n",
       "      <td>100</td>\n",
       "      <td>Episode 71</td>\n",
       "      <td>10515</td>\n",
       "    </tr>\n",
       "    <tr>\n",
       "      <th>Genre</th>\n",
       "      <td>750000</td>\n",
       "      <td>10</td>\n",
       "      <td>Sports</td>\n",
       "      <td>87606</td>\n",
       "    </tr>\n",
       "    <tr>\n",
       "      <th>Publication_Day</th>\n",
       "      <td>750000</td>\n",
       "      <td>7</td>\n",
       "      <td>Sunday</td>\n",
       "      <td>115946</td>\n",
       "    </tr>\n",
       "    <tr>\n",
       "      <th>Publication_Time</th>\n",
       "      <td>750000</td>\n",
       "      <td>4</td>\n",
       "      <td>Night</td>\n",
       "      <td>196849</td>\n",
       "    </tr>\n",
       "    <tr>\n",
       "      <th>Episode_Sentiment</th>\n",
       "      <td>750000</td>\n",
       "      <td>3</td>\n",
       "      <td>Neutral</td>\n",
       "      <td>251291</td>\n",
       "    </tr>\n",
       "  </tbody>\n",
       "</table>\n",
       "</div>"
      ],
      "text/plain": [
       "                    count unique         top    freq\n",
       "Podcast_Name       750000     48  Tech Talks   22847\n",
       "Episode_Title      750000    100  Episode 71   10515\n",
       "Genre              750000     10      Sports   87606\n",
       "Publication_Day    750000      7      Sunday  115946\n",
       "Publication_Time   750000      4       Night  196849\n",
       "Episode_Sentiment  750000      3     Neutral  251291"
      ]
     },
     "execution_count": 12,
     "metadata": {},
     "output_type": "execute_result"
    }
   ],
   "source": [
    "df_train.describe(include=[\"O\"]).T"
   ]
  },
  {
   "cell_type": "code",
   "execution_count": 13,
   "metadata": {
    "colab": {
     "base_uri": "https://localhost:8080/",
     "height": 461
    },
    "id": "s4QwA00d27eq",
    "outputId": "aa108ff5-7de0-4ae9-dff2-4872ddf786a8"
   },
   "outputs": [
    {
     "data": {
      "text/plain": [
       "id                             750000\n",
       "Podcast_Name                       48\n",
       "Episode_Title                     100\n",
       "Episode_Length_minutes          12268\n",
       "Genre                              10\n",
       "Host_Popularity_percentage       8038\n",
       "Publication_Day                     7\n",
       "Publication_Time                    4\n",
       "Guest_Popularity_percentage     10019\n",
       "Number_of_Ads                      12\n",
       "Episode_Sentiment                   3\n",
       "Listening_Time_minutes          42807\n",
       "dtype: int64"
      ]
     },
     "execution_count": 13,
     "metadata": {},
     "output_type": "execute_result"
    }
   ],
   "source": [
    "df_train.nunique()"
   ]
  },
  {
   "cell_type": "code",
   "execution_count": 14,
   "metadata": {
    "colab": {
     "base_uri": "https://localhost:8080/"
    },
    "id": "O-yLBjSq27eq",
    "outputId": "253f3908-37ad-4e06-c0c7-a14e47fc76d5"
   },
   "outputs": [
    {
     "name": "stdout",
     "output_type": "stream",
     "text": [
      "Episode_Length_minutes         0.916749\n",
      "Host_Popularity_percentage     0.050870\n",
      "id                            -0.000876\n",
      "Guest_Popularity_percentage   -0.016014\n",
      "Number_of_Ads                 -0.118337\n",
      "Name: Listening_Time_minutes, dtype: float64\n"
     ]
    }
   ],
   "source": [
    "import pandas as pd\n",
    "import seaborn as sns\n",
    "import matplotlib.pyplot as plt\n",
    "\n",
    "# Seleccionar solo variables numéricas\n",
    "corr_matrix = df_train.corr(numeric_only=True)\n",
    "\n",
    "# Correlaciones con la variable objetivo (Listening_Time_minutes)\n",
    "correlaciones = corr_matrix[\"Listening_Time_minutes\"].drop(\"Listening_Time_minutes\")  # Quitamos la diagonal\n",
    "\n",
    "# Ordenar de mayor a menor\n",
    "correlaciones_ordenadas = correlaciones.sort_values(ascending=False)\n",
    "\n",
    "# Mostrar como tabla\n",
    "print(correlaciones_ordenadas)"
   ]
  },
  {
   "cell_type": "code",
   "execution_count": 15,
   "metadata": {
    "colab": {
     "base_uri": "https://localhost:8080/",
     "height": 807
    },
    "id": "Y9MCv91N27eq",
    "outputId": "1824f10a-5b9a-437a-d819-63da6ef541ec"
   },
   "outputs": [
    {
     "data": {
      "image/png": "[encoded data removed]",
      "text/plain": [
       "<Figure size 1000x800 with 2 Axes>"
      ]
     },
     "metadata": {},
     "output_type": "display_data"
    }
   ],
   "source": [
    "# Tomar las variables más correlacionadas con Listening_Time_minutes (por ejemplo, top 10)\n",
    "top_features = correlaciones_ordenadas.head(10).index.tolist() + [\"Listening_Time_minutes\"]\n",
    "\n",
    "plt.figure(figsize=(10, 8))\n",
    "sns.heatmap(df_train[top_features].corr(), annot=True, cmap=\"coolwarm\", fmt=\".2f\")\n",
    "plt.title(\"Matriz de correlación (Top 10 variables)\")\n",
    "plt.tight_layout()\n",
    "plt.show()"
   ]
  },
  {
   "cell_type": "code",
   "execution_count": 16,
   "metadata": {
    "colab": {
     "base_uri": "https://localhost:8080/"
    },
    "id": "o_sTfvxX27eq",
    "outputId": "3b242ab4-8598-4408-d3ce-7b5ce31ed099"
   },
   "outputs": [
    {
     "name": "stdout",
     "output_type": "stream",
     "text": [
      "Episode_Length_minutes  Listening_Time_minutes    0.916749\n",
      "dtype: float64\n"
     ]
    }
   ],
   "source": [
    "corr_matrix = df_train.corr(numeric_only=True).abs()\n",
    "high_corr = (corr_matrix.where(np.triu(np.ones(corr_matrix.shape), k=1).astype(bool))\n",
    "             .stack()\n",
    "             .sort_values(ascending=False))\n",
    "\n",
    "# Mostrar pares con correlación mayor a 0.8\n",
    "print(high_corr[high_corr > 0.8])"
   ]
  },
  {
   "cell_type": "code",
   "execution_count": 17,
   "metadata": {
    "colab": {
     "base_uri": "https://localhost:8080/",
     "height": 461
    },
    "id": "nT1tczNC27er",
    "outputId": "7d86d801-8797-4935-bb7f-3b83c6f6888a"
   },
   "outputs": [
    {
     "data": {
      "text/plain": [
       "Guest_Popularity_percentage    146030\n",
       "Episode_Length_minutes          87093\n",
       "Number_of_Ads                       1\n",
       "id                                  0\n",
       "Podcast_Name                        0\n",
       "Episode_Title                       0\n",
       "Genre                               0\n",
       "Host_Popularity_percentage          0\n",
       "Publication_Day                     0\n",
       "Publication_Time                    0\n",
       "Episode_Sentiment                   0\n",
       "Listening_Time_minutes              0\n",
       "dtype: int64"
      ]
     },
     "execution_count": 17,
     "metadata": {},
     "output_type": "execute_result"
    }
   ],
   "source": [
    "df_train.isnull().sum().sort_values(ascending=False)"
   ]
  },
  {
   "cell_type": "code",
   "execution_count": 18,
   "metadata": {
    "colab": {
     "base_uri": "https://localhost:8080/",
     "height": 461
    },
    "id": "uCuM_Fly27er",
    "outputId": "b4f2c154-0287-40c0-cfb8-6d083da77f74"
   },
   "outputs": [
    {
     "data": {
      "text/plain": [
       "Guest_Popularity_percentage    19.470667\n",
       "Episode_Length_minutes         11.612400\n",
       "Number_of_Ads                   0.000133\n",
       "id                              0.000000\n",
       "Podcast_Name                    0.000000\n",
       "Episode_Title                   0.000000\n",
       "Genre                           0.000000\n",
       "Host_Popularity_percentage      0.000000\n",
       "Publication_Day                 0.000000\n",
       "Publication_Time                0.000000\n",
       "Episode_Sentiment               0.000000\n",
       "Listening_Time_minutes          0.000000\n",
       "dtype: float64"
      ]
     },
     "execution_count": 18,
     "metadata": {},
     "output_type": "execute_result"
    }
   ],
   "source": [
    "df_train.isnull().mean().sort_values(ascending=False)*100"
   ]
  },
  {
   "cell_type": "code",
   "execution_count": 19,
   "metadata": {
    "colab": {
     "base_uri": "https://localhost:8080/",
     "height": 429
    },
    "id": "P6Ybet6w27er",
    "outputId": "7f460856-ad20-45d1-c5a4-46d2b9e922c1"
   },
   "outputs": [
    {
     "data": {
      "text/plain": [
       "Genre\n",
       "Sports        87606\n",
       "Technology    86256\n",
       "True Crime    85059\n",
       "Lifestyle     82461\n",
       "Comedy        81453\n",
       "Business      80521\n",
       "Health        71416\n",
       "News          63385\n",
       "Music         62743\n",
       "Education     49100\n",
       "dtype: int64"
      ]
     },
     "execution_count": 19,
     "metadata": {},
     "output_type": "execute_result"
    }
   ],
   "source": [
    "df_train.groupby(\"Genre\").size().sort_values(ascending=False)"
   ]
  },
  {
   "cell_type": "code",
   "execution_count": 20,
   "metadata": {
    "colab": {
     "base_uri": "https://localhost:8080/",
     "height": 335
    },
    "id": "QzRI4FVd27er",
    "outputId": "76356014-f82b-492f-bb88-6f6bb9065db4"
   },
   "outputs": [
    {
     "data": {
      "text/plain": [
       "Publication_Day\n",
       "Sunday       115946\n",
       "Monday       111963\n",
       "Friday       108237\n",
       "Wednesday    107886\n",
       "Thursday     104360\n",
       "Saturday     103505\n",
       "Tuesday       98103\n",
       "dtype: int64"
      ]
     },
     "execution_count": 20,
     "metadata": {},
     "output_type": "execute_result"
    }
   ],
   "source": [
    "df_train.groupby(\"Publication_Day\").size().sort_values(ascending=False)"
   ]
  },
  {
   "cell_type": "code",
   "execution_count": 21,
   "metadata": {
    "colab": {
     "base_uri": "https://localhost:8080/",
     "height": 241
    },
    "id": "-CGcSCmY27er",
    "outputId": "8a32ccd4-82f9-481a-90b8-8f54d7e3c361"
   },
   "outputs": [
    {
     "data": {
      "text/plain": [
       "Publication_Time\n",
       "Night        196849\n",
       "Evening      195778\n",
       "Afternoon    179460\n",
       "Morning      177913\n",
       "dtype: int64"
      ]
     },
     "execution_count": 21,
     "metadata": {},
     "output_type": "execute_result"
    }
   ],
   "source": [
    "df_train.groupby(\"Publication_Time\").size().sort_values(ascending=False)"
   ]
  },
  {
   "cell_type": "code",
   "execution_count": 22,
   "metadata": {
    "colab": {
     "base_uri": "https://localhost:8080/",
     "height": 210
    },
    "id": "KAlZIXqQ27es",
    "outputId": "9623c671-5841-408b-e563-cbb5aaa4f26e"
   },
   "outputs": [
    {
     "data": {
      "text/plain": [
       "Episode_Sentiment\n",
       "Neutral     251291\n",
       "Negative    250116\n",
       "Positive    248593\n",
       "dtype: int64"
      ]
     },
     "execution_count": 22,
     "metadata": {},
     "output_type": "execute_result"
    }
   ],
   "source": [
    "df_train.groupby(\"Episode_Sentiment\").size().sort_values(ascending=False)"
   ]
  },
  {
   "cell_type": "code",
   "execution_count": 23,
   "metadata": {
    "colab": {
     "base_uri": "https://localhost:8080/",
     "height": 507
    },
    "id": "1hZMoXh827es",
    "outputId": "fb4a041a-5482-450c-8f6d-9ff4db8682e1"
   },
   "outputs": [
    {
     "data": {
      "image/png": "[encoded data removed]",
      "text/plain": [
       "<Figure size 800x500 with 1 Axes>"
      ]
     },
     "metadata": {},
     "output_type": "display_data"
    }
   ],
   "source": [
    "import matplotlib.pyplot as plt\n",
    "\n",
    "# Agrupar\n",
    "conteo_dia = df_train.groupby('Publication_Day').size()\n",
    "tiempo_dia = df_train.groupby('Publication_Day')['Listening_Time_minutes'].sum()\n",
    "\n",
    "# Calcular promedio\n",
    "promedio_dia = tiempo_dia / conteo_dia\n",
    "\n",
    "# Asegurar orden de días\n",
    "orden_dias = ['Monday', 'Tuesday', 'Wednesday', 'Thursday', 'Friday', 'Saturday', 'Sunday']\n",
    "promedio_dia = promedio_dia.reindex(orden_dias)\n",
    "\n",
    "# Graficar\n",
    "fig, ax = plt.subplots(figsize=(8, 5))\n",
    "ax.bar(promedio_dia.index, promedio_dia, color='green')\n",
    "\n",
    "ax.set_ylabel(\"Promedio de minutos por episodio\")\n",
    "ax.set_xlabel(\"Día de publicación\")\n",
    "ax.set_title(\"Promedio de Listening Time por Día de Publicación\")\n",
    "plt.xticks(rotation=45)\n",
    "plt.tight_layout()\n",
    "plt.show()\n"
   ]
  },
  {
   "cell_type": "code",
   "execution_count": 24,
   "metadata": {
    "colab": {
     "base_uri": "https://localhost:8080/",
     "height": 507
    },
    "id": "GrO5nwVU27es",
    "outputId": "90235702-16ca-447a-b286-80b7c26ecac7"
   },
   "outputs": [
    {
     "data": {
      "image/png": "[encoded data removed]",
      "text/plain": [
       "<Figure size 600x500 with 1 Axes>"
      ]
     },
     "metadata": {},
     "output_type": "display_data"
    }
   ],
   "source": [
    "# Agrupar\n",
    "conteo_hora = df_train.groupby('Publication_Time').size()\n",
    "tiempo_hora = df_train.groupby('Publication_Time')['Listening_Time_minutes'].sum()\n",
    "\n",
    "# Calcular promedio\n",
    "promedio_hora = tiempo_hora / conteo_hora\n",
    "\n",
    "# Orden lógico de momentos del día\n",
    "orden_horas = ['Morning', 'Afternoon', 'Evening', 'Night']\n",
    "promedio_hora = promedio_hora.reindex(orden_horas)\n",
    "\n",
    "# Graficar\n",
    "fig, ax = plt.subplots(figsize=(6, 5))\n",
    "ax.bar(promedio_hora.index, promedio_hora, color='green')\n",
    "\n",
    "ax.set_ylabel(\"Promedio de minutos por episodio\")\n",
    "ax.set_xlabel(\"Momento del día\")\n",
    "ax.set_title(\"Promedio de Listening Time por Horario de Publicación\")\n",
    "plt.tight_layout()\n",
    "plt.show()\n"
   ]
  },
  {
   "cell_type": "code",
   "execution_count": 25,
   "metadata": {
    "colab": {
     "base_uri": "https://localhost:8080/"
    },
    "id": "fgRC3eUf27es",
    "outputId": "699d895b-1938-4347-dcdf-b7db8704482c"
   },
   "outputs": [
    {
     "name": "stderr",
     "output_type": "stream",
     "text": [
      "C:\\Users\\Director escuela\\AppData\\Local\\Temp\\ipykernel_3148\\162921868.py:4: FutureWarning: A value is trying to be set on a copy of a DataFrame or Series through chained assignment using an inplace method.\n",
      "The behavior will change in pandas 3.0. This inplace method will never work because the intermediate object on which we are setting values always behaves as a copy.\n",
      "\n",
      "For example, when doing 'df[col].method(value, inplace=True)', try using 'df.method({col: value}, inplace=True)' or df[col] = df[col].method(value) instead, to perform the operation inplace on the original object.\n",
      "\n",
      "\n",
      "  df_train['Episode_Length_minutes'].fillna(median_length, inplace=True)\n",
      "C:\\Users\\Director escuela\\AppData\\Local\\Temp\\ipykernel_3148\\162921868.py:7: FutureWarning: A value is trying to be set on a copy of a DataFrame or Series through chained assignment using an inplace method.\n",
      "The behavior will change in pandas 3.0. This inplace method will never work because the intermediate object on which we are setting values always behaves as a copy.\n",
      "\n",
      "For example, when doing 'df[col].method(value, inplace=True)', try using 'df.method({col: value}, inplace=True)' or df[col] = df[col].method(value) instead, to perform the operation inplace on the original object.\n",
      "\n",
      "\n",
      "  df_train['Guest_Popularity_percentage'].fillna(0, inplace=True)\n",
      "C:\\Users\\Director escuela\\AppData\\Local\\Temp\\ipykernel_3148\\162921868.py:18: FutureWarning: A value is trying to be set on a copy of a DataFrame or Series through chained assignment using an inplace method.\n",
      "The behavior will change in pandas 3.0. This inplace method will never work because the intermediate object on which we are setting values always behaves as a copy.\n",
      "\n",
      "For example, when doing 'df[col].method(value, inplace=True)', try using 'df.method({col: value}, inplace=True)' or df[col] = df[col].method(value) instead, to perform the operation inplace on the original object.\n",
      "\n",
      "\n",
      "  df_test['Episode_Length_minutes'].fillna(median_length, inplace=True)\n",
      "C:\\Users\\Director escuela\\AppData\\Local\\Temp\\ipykernel_3148\\162921868.py:19: FutureWarning: A value is trying to be set on a copy of a DataFrame or Series through chained assignment using an inplace method.\n",
      "The behavior will change in pandas 3.0. This inplace method will never work because the intermediate object on which we are setting values always behaves as a copy.\n",
      "\n",
      "For example, when doing 'df[col].method(value, inplace=True)', try using 'df.method({col: value}, inplace=True)' or df[col] = df[col].method(value) instead, to perform the operation inplace on the original object.\n",
      "\n",
      "\n",
      "  df_test['Guest_Popularity_percentage'].fillna(0, inplace=True)\n"
     ]
    }
   ],
   "source": [
    "# ---------- IMPUTACIÓN EN TRAIN ----------\n",
    "# Episode_Length_minutes → mediana\n",
    "median_length = df_train['Episode_Length_minutes'].median()\n",
    "df_train['Episode_Length_minutes'].fillna(median_length, inplace=True)\n",
    "\n",
    "# Guest_Popularity_percentage → 0 + bandera\n",
    "df_train['Guest_Popularity_percentage'].fillna(0, inplace=True)\n",
    "df_train['Guest_Popularity_missing'] = df_train['Guest_Popularity_percentage'] == 0\n",
    "\n",
    "# Number_of_Ads → mediana\n",
    "df_train[\"Number_of_Ads\"] = df_train[\"Number_of_Ads\"].fillna(df_train[\"Number_of_Ads\"].median())\n",
    "\n",
    "\n",
    "\n",
    "# ---------- IMPUTACIÓN EN TEST ----------\n",
    "# Usar las mismas estadísticas (¡no recalcular!)\n",
    "\n",
    "df_test['Episode_Length_minutes'].fillna(median_length, inplace=True)\n",
    "df_test['Guest_Popularity_percentage'].fillna(0, inplace=True)\n",
    "df_test['Guest_Popularity_missing'] = df_test['Guest_Popularity_percentage'] == 0\n",
    "\n",
    "# Guardás la mediana usada en train\n",
    "ads_median = df_train[\"Number_of_Ads\"].median()\n",
    "# La aplicás en test\n",
    "df_test[\"Number_of_Ads\"] = df_test[\"Number_of_Ads\"].fillna(ads_median)\n",
    "\n"
   ]
  },
  {
   "cell_type": "code",
   "execution_count": 26,
   "metadata": {
    "colab": {
     "base_uri": "https://localhost:8080/",
     "height": 492
    },
    "id": "BveeMtM427es",
    "outputId": "58764656-0aea-4572-de63-b9c01b09afca"
   },
   "outputs": [
    {
     "data": {
      "text/plain": [
       "id                             0\n",
       "Podcast_Name                   0\n",
       "Episode_Title                  0\n",
       "Episode_Length_minutes         0\n",
       "Genre                          0\n",
       "Host_Popularity_percentage     0\n",
       "Publication_Day                0\n",
       "Publication_Time               0\n",
       "Guest_Popularity_percentage    0\n",
       "Number_of_Ads                  0\n",
       "Episode_Sentiment              0\n",
       "Listening_Time_minutes         0\n",
       "Guest_Popularity_missing       0\n",
       "dtype: int64"
      ]
     },
     "execution_count": 26,
     "metadata": {},
     "output_type": "execute_result"
    }
   ],
   "source": [
    "df_train.isnull().sum()"
   ]
  },
  {
   "cell_type": "code",
   "execution_count": 27,
   "metadata": {
    "colab": {
     "base_uri": "https://localhost:8080/",
     "height": 261
    },
    "id": "shZPpfj927es",
    "outputId": "55d7590f-edf5-4891-c0b7-19163e2cb612"
   },
   "outputs": [
    {
     "data": {
      "text/html": [
       "<div>\n",
       "<style scoped>\n",
       "    .dataframe tbody tr th:only-of-type {\n",
       "        vertical-align: middle;\n",
       "    }\n",
       "\n",
       "    .dataframe tbody tr th {\n",
       "        vertical-align: top;\n",
       "    }\n",
       "\n",
       "    .dataframe thead th {\n",
       "        text-align: right;\n",
       "    }\n",
       "</style>\n",
       "<table border=\"1\" class=\"dataframe\">\n",
       "  <thead>\n",
       "    <tr style=\"text-align: right;\">\n",
       "      <th></th>\n",
       "      <th>id</th>\n",
       "      <th>Podcast_Name</th>\n",
       "      <th>Episode_Title</th>\n",
       "      <th>Episode_Length_minutes</th>\n",
       "      <th>Genre</th>\n",
       "      <th>Host_Popularity_percentage</th>\n",
       "      <th>Publication_Day</th>\n",
       "      <th>Publication_Time</th>\n",
       "      <th>Guest_Popularity_percentage</th>\n",
       "      <th>Number_of_Ads</th>\n",
       "      <th>Episode_Sentiment</th>\n",
       "      <th>Listening_Time_minutes</th>\n",
       "      <th>Guest_Popularity_missing</th>\n",
       "    </tr>\n",
       "  </thead>\n",
       "  <tbody>\n",
       "    <tr>\n",
       "      <th>0</th>\n",
       "      <td>0</td>\n",
       "      <td>Mystery Matters</td>\n",
       "      <td>Episode 98</td>\n",
       "      <td>63.84</td>\n",
       "      <td>True Crime</td>\n",
       "      <td>74.81</td>\n",
       "      <td>Thursday</td>\n",
       "      <td>Night</td>\n",
       "      <td>0.00</td>\n",
       "      <td>0.0</td>\n",
       "      <td>Positive</td>\n",
       "      <td>31.41998</td>\n",
       "      <td>True</td>\n",
       "    </tr>\n",
       "    <tr>\n",
       "      <th>1</th>\n",
       "      <td>1</td>\n",
       "      <td>Joke Junction</td>\n",
       "      <td>Episode 26</td>\n",
       "      <td>119.80</td>\n",
       "      <td>Comedy</td>\n",
       "      <td>66.95</td>\n",
       "      <td>Saturday</td>\n",
       "      <td>Afternoon</td>\n",
       "      <td>75.95</td>\n",
       "      <td>2.0</td>\n",
       "      <td>Negative</td>\n",
       "      <td>88.01241</td>\n",
       "      <td>False</td>\n",
       "    </tr>\n",
       "    <tr>\n",
       "      <th>2</th>\n",
       "      <td>2</td>\n",
       "      <td>Study Sessions</td>\n",
       "      <td>Episode 16</td>\n",
       "      <td>73.90</td>\n",
       "      <td>Education</td>\n",
       "      <td>69.97</td>\n",
       "      <td>Tuesday</td>\n",
       "      <td>Evening</td>\n",
       "      <td>8.97</td>\n",
       "      <td>0.0</td>\n",
       "      <td>Negative</td>\n",
       "      <td>44.92531</td>\n",
       "      <td>False</td>\n",
       "    </tr>\n",
       "    <tr>\n",
       "      <th>3</th>\n",
       "      <td>3</td>\n",
       "      <td>Digital Digest</td>\n",
       "      <td>Episode 45</td>\n",
       "      <td>67.17</td>\n",
       "      <td>Technology</td>\n",
       "      <td>57.22</td>\n",
       "      <td>Monday</td>\n",
       "      <td>Morning</td>\n",
       "      <td>78.70</td>\n",
       "      <td>2.0</td>\n",
       "      <td>Positive</td>\n",
       "      <td>46.27824</td>\n",
       "      <td>False</td>\n",
       "    </tr>\n",
       "    <tr>\n",
       "      <th>4</th>\n",
       "      <td>4</td>\n",
       "      <td>Mind &amp; Body</td>\n",
       "      <td>Episode 86</td>\n",
       "      <td>110.51</td>\n",
       "      <td>Health</td>\n",
       "      <td>80.07</td>\n",
       "      <td>Monday</td>\n",
       "      <td>Afternoon</td>\n",
       "      <td>58.68</td>\n",
       "      <td>3.0</td>\n",
       "      <td>Neutral</td>\n",
       "      <td>75.61031</td>\n",
       "      <td>False</td>\n",
       "    </tr>\n",
       "  </tbody>\n",
       "</table>\n",
       "</div>"
      ],
      "text/plain": [
       "   id     Podcast_Name Episode_Title  Episode_Length_minutes       Genre  \\\n",
       "0   0  Mystery Matters    Episode 98                   63.84  True Crime   \n",
       "1   1    Joke Junction    Episode 26                  119.80      Comedy   \n",
       "2   2   Study Sessions    Episode 16                   73.90   Education   \n",
       "3   3   Digital Digest    Episode 45                   67.17  Technology   \n",
       "4   4      Mind & Body    Episode 86                  110.51      Health   \n",
       "\n",
       "   Host_Popularity_percentage Publication_Day Publication_Time  \\\n",
       "0                       74.81        Thursday            Night   \n",
       "1                       66.95        Saturday        Afternoon   \n",
       "2                       69.97         Tuesday          Evening   \n",
       "3                       57.22          Monday          Morning   \n",
       "4                       80.07          Monday        Afternoon   \n",
       "\n",
       "   Guest_Popularity_percentage  Number_of_Ads Episode_Sentiment  \\\n",
       "0                         0.00            0.0          Positive   \n",
       "1                        75.95            2.0          Negative   \n",
       "2                         8.97            0.0          Negative   \n",
       "3                        78.70            2.0          Positive   \n",
       "4                        58.68            3.0           Neutral   \n",
       "\n",
       "   Listening_Time_minutes  Guest_Popularity_missing  \n",
       "0                31.41998                      True  \n",
       "1                88.01241                     False  \n",
       "2                44.92531                     False  \n",
       "3                46.27824                     False  \n",
       "4                75.61031                     False  "
      ]
     },
     "execution_count": 27,
     "metadata": {},
     "output_type": "execute_result"
    }
   ],
   "source": [
    "df_train.head()"
   ]
  },
  {
   "cell_type": "markdown",
   "metadata": {
    "id": "scP2PayK27et"
   },
   "source": [
    "QUEDE EN LA PARTE DE SELECCIONAR LAS COLUMNAS CON LAS QUE DESEO TRABAJAR, LEUGO TRANSFORMAR LAS CATEGORICAS A NUMERICAS"
   ]
  },
  {
   "cell_type": "code",
   "execution_count": 29,
   "metadata": {
    "id": "Ycw20hJ027et"
   },
   "outputs": [],
   "source": [
    "# Eliminar columnas innecesarias\n",
    "df_train.drop([\"Podcast_Name\", \"Episode_Title\"], axis=1, inplace=True)\n",
    "df_test.drop([\"Podcast_Name\", \"Episode_Title\"], axis=1, inplace=True)"
   ]
  },
  {
   "cell_type": "code",
   "execution_count": 30,
   "metadata": {},
   "outputs": [],
   "source": [
    "# TRANSFORMAR DIRECTAMENTE EN LA MISMA COLUMNA (df_train)\n",
    "df_train[\"Publication_Day\"] = df_train[\"Publication_Day\"].map({\n",
    "    \"Sunday\": 0, \"Monday\": 1, \"Tuesday\": 2, \"Wednesday\": 3,\n",
    "    \"Thursday\": 4, \"Friday\": 5, \"Saturday\": 6\n",
    "})\n",
    "\n",
    "df_train[\"Publication_Time\"] = df_train[\"Publication_Time\"].map({\n",
    "    \"Morning\": 0, \"Afternoon\": 1, \"Evening\": 2, \"Night\": 3\n",
    "})\n",
    "\n",
    "df_train[\"Episode_Sentiment\"] = df_train[\"Episode_Sentiment\"].map({\n",
    "    \"Negative\": 0, \"Neutral\": 1, \"Positive\": 2\n",
    "})\n",
    "\n",
    "df_train[\"Genre\"] = df_train[\"Genre\"].map({\n",
    "    \"Sports\": 0,\n",
    "    \"Technology\": 1,\n",
    "    \"True Crime\": 2,\n",
    "    \"Lifestyle\": 3,\n",
    "    \"Comedy\": 4,\n",
    "    \"Business\": 5,\n",
    "    \"Health\": 6,\n",
    "    \"News\": 7,\n",
    "    \"Music\": 8,\n",
    "    \"Education\": 9\n",
    "})\n",
    "\n",
    "\n",
    "# MISMO PROCEDIMIENTO PARA df_test\n",
    "df_test[\"Publication_Day\"] = df_test[\"Publication_Day\"].map({\n",
    "    \"Sunday\": 0, \"Monday\": 1, \"Tuesday\": 2, \"Wednesday\": 3,\n",
    "    \"Thursday\": 4, \"Friday\": 5, \"Saturday\": 6\n",
    "})\n",
    "\n",
    "df_test[\"Publication_Time\"] = df_test[\"Publication_Time\"].map({\n",
    "    \"Morning\": 0, \"Afternoon\": 1, \"Evening\": 2, \"Night\": 3\n",
    "})\n",
    "\n",
    "df_test[\"Episode_Sentiment\"] = df_test[\"Episode_Sentiment\"].map({\n",
    "    \"Negative\": 0, \"Neutral\": 1, \"Positive\": 2\n",
    "})\n",
    "\n",
    "df_test[\"Genre\"] = df_test[\"Genre\"].map({\n",
    "    \"Sports\": 0,\n",
    "    \"Technology\": 1,\n",
    "    \"True Crime\": 2,\n",
    "    \"Lifestyle\": 3,\n",
    "    \"Comedy\": 4,\n",
    "    \"Business\": 5,\n",
    "    \"Health\": 6,\n",
    "    \"News\": 7,\n",
    "    \"Music\": 8,\n",
    "    \"Education\": 9\n",
    "})\n"
   ]
  },
  {
   "cell_type": "code",
   "execution_count": 31,
   "metadata": {
    "id": "mvageIoT27et"
   },
   "outputs": [],
   "source": [
    "#No necesita codificación la columna \"Guest_Popularity_missing\" porque:\n",
    "#Es de tipo booleano (o puede convertirse fácilmente a entero).\n",
    "#Los modelos de machine learning ya la interpretan como una variable numérica binaria.\n",
    "#Aun asi la transformare explícitamente a int para que no quede como bool, por claridad y control\n",
    "df_train[\"Guest_Popularity_missing\"] = df_train[\"Guest_Popularity_missing\"].astype(int)\n",
    "df_test[\"Guest_Popularity_missing\"] = df_test[\"Guest_Popularity_missing\"].astype(int)\n"
   ]
  },
  {
   "cell_type": "code",
   "execution_count": 32,
   "metadata": {
    "colab": {
     "base_uri": "https://localhost:8080/",
     "height": 206
    },
    "id": "LR-lVFko27eu",
    "outputId": "9aadea23-d267-47fc-aef9-5244c1e7fe33"
   },
   "outputs": [
    {
     "data": {
      "text/html": [
       "<div>\n",
       "<style scoped>\n",
       "    .dataframe tbody tr th:only-of-type {\n",
       "        vertical-align: middle;\n",
       "    }\n",
       "\n",
       "    .dataframe tbody tr th {\n",
       "        vertical-align: top;\n",
       "    }\n",
       "\n",
       "    .dataframe thead th {\n",
       "        text-align: right;\n",
       "    }\n",
       "</style>\n",
       "<table border=\"1\" class=\"dataframe\">\n",
       "  <thead>\n",
       "    <tr style=\"text-align: right;\">\n",
       "      <th></th>\n",
       "      <th>id</th>\n",
       "      <th>Episode_Length_minutes</th>\n",
       "      <th>Genre</th>\n",
       "      <th>Host_Popularity_percentage</th>\n",
       "      <th>Publication_Day</th>\n",
       "      <th>Publication_Time</th>\n",
       "      <th>Guest_Popularity_percentage</th>\n",
       "      <th>Number_of_Ads</th>\n",
       "      <th>Episode_Sentiment</th>\n",
       "      <th>Listening_Time_minutes</th>\n",
       "      <th>Guest_Popularity_missing</th>\n",
       "    </tr>\n",
       "  </thead>\n",
       "  <tbody>\n",
       "    <tr>\n",
       "      <th>0</th>\n",
       "      <td>0</td>\n",
       "      <td>63.84</td>\n",
       "      <td>2</td>\n",
       "      <td>74.81</td>\n",
       "      <td>4</td>\n",
       "      <td>3</td>\n",
       "      <td>0.00</td>\n",
       "      <td>0.0</td>\n",
       "      <td>2</td>\n",
       "      <td>31.41998</td>\n",
       "      <td>1</td>\n",
       "    </tr>\n",
       "    <tr>\n",
       "      <th>1</th>\n",
       "      <td>1</td>\n",
       "      <td>119.80</td>\n",
       "      <td>4</td>\n",
       "      <td>66.95</td>\n",
       "      <td>6</td>\n",
       "      <td>1</td>\n",
       "      <td>75.95</td>\n",
       "      <td>2.0</td>\n",
       "      <td>0</td>\n",
       "      <td>88.01241</td>\n",
       "      <td>0</td>\n",
       "    </tr>\n",
       "    <tr>\n",
       "      <th>2</th>\n",
       "      <td>2</td>\n",
       "      <td>73.90</td>\n",
       "      <td>9</td>\n",
       "      <td>69.97</td>\n",
       "      <td>2</td>\n",
       "      <td>2</td>\n",
       "      <td>8.97</td>\n",
       "      <td>0.0</td>\n",
       "      <td>0</td>\n",
       "      <td>44.92531</td>\n",
       "      <td>0</td>\n",
       "    </tr>\n",
       "    <tr>\n",
       "      <th>3</th>\n",
       "      <td>3</td>\n",
       "      <td>67.17</td>\n",
       "      <td>1</td>\n",
       "      <td>57.22</td>\n",
       "      <td>1</td>\n",
       "      <td>0</td>\n",
       "      <td>78.70</td>\n",
       "      <td>2.0</td>\n",
       "      <td>2</td>\n",
       "      <td>46.27824</td>\n",
       "      <td>0</td>\n",
       "    </tr>\n",
       "    <tr>\n",
       "      <th>4</th>\n",
       "      <td>4</td>\n",
       "      <td>110.51</td>\n",
       "      <td>6</td>\n",
       "      <td>80.07</td>\n",
       "      <td>1</td>\n",
       "      <td>1</td>\n",
       "      <td>58.68</td>\n",
       "      <td>3.0</td>\n",
       "      <td>1</td>\n",
       "      <td>75.61031</td>\n",
       "      <td>0</td>\n",
       "    </tr>\n",
       "  </tbody>\n",
       "</table>\n",
       "</div>"
      ],
      "text/plain": [
       "   id  Episode_Length_minutes  Genre  Host_Popularity_percentage  \\\n",
       "0   0                   63.84      2                       74.81   \n",
       "1   1                  119.80      4                       66.95   \n",
       "2   2                   73.90      9                       69.97   \n",
       "3   3                   67.17      1                       57.22   \n",
       "4   4                  110.51      6                       80.07   \n",
       "\n",
       "   Publication_Day  Publication_Time  Guest_Popularity_percentage  \\\n",
       "0                4                 3                         0.00   \n",
       "1                6                 1                        75.95   \n",
       "2                2                 2                         8.97   \n",
       "3                1                 0                        78.70   \n",
       "4                1                 1                        58.68   \n",
       "\n",
       "   Number_of_Ads  Episode_Sentiment  Listening_Time_minutes  \\\n",
       "0            0.0                  2                31.41998   \n",
       "1            2.0                  0                88.01241   \n",
       "2            0.0                  0                44.92531   \n",
       "3            2.0                  2                46.27824   \n",
       "4            3.0                  1                75.61031   \n",
       "\n",
       "   Guest_Popularity_missing  \n",
       "0                         1  \n",
       "1                         0  \n",
       "2                         0  \n",
       "3                         0  \n",
       "4                         0  "
      ]
     },
     "execution_count": 32,
     "metadata": {},
     "output_type": "execute_result"
    }
   ],
   "source": [
    "df_train.head()"
   ]
  },
  {
   "cell_type": "code",
   "execution_count": 63,
   "metadata": {
    "colab": {
     "base_uri": "https://localhost:8080/"
    },
    "id": "FZapLQQ227eu",
    "outputId": "a55ed8a0-cd29-446a-94c3-952131dc1913"
   },
   "outputs": [
    {
     "data": {
      "text/plain": [
       "Index(['id', 'Episode_Length_minutes', 'Genre', 'Host_Popularity_percentage',\n",
       "       'Publication_Day', 'Publication_Time', 'Guest_Popularity_percentage',\n",
       "       'Number_of_Ads', 'Episode_Sentiment', 'Listening_Time_minutes',\n",
       "       'Guest_Popularity_missing'],\n",
       "      dtype='object')"
      ]
     },
     "execution_count": 63,
     "metadata": {},
     "output_type": "execute_result"
    }
   ],
   "source": [
    "df_train.columns"
   ]
  },
  {
   "cell_type": "code",
   "execution_count": 65,
   "metadata": {
    "colab": {
     "base_uri": "https://localhost:8080/",
     "height": 806
    },
    "id": "qZvvkqg227eu",
    "outputId": "fcbab6a3-4cd0-4f37-eeb4-a8d531858c29"
   },
   "outputs": [
    {
     "data": {
      "image/png": "[encoded data removed]",
      "text/plain": [
       "<Figure size 1500x800 with 8 Axes>"
      ]
     },
     "metadata": {},
     "output_type": "display_data"
    }
   ],
   "source": [
    "import matplotlib.pyplot as plt\n",
    "import seaborn as sns\n",
    "\n",
    "# Asegúrate de trabajar solo con columnas numéricas reales\n",
    "numerical_cols = df_train.select_dtypes(include=[\"float64\", \"int64\"]).columns.tolist()\n",
    "numerical_cols = [col for col in numerical_cols if col not in [\"id\", \"Listening_Time_minutes\"]]\n",
    "\n",
    "# Tamaño general\n",
    "plt.figure(figsize=(15, 8))\n",
    "\n",
    "for i, col in enumerate(numerical_cols):\n",
    "    # Solo graficar si la columna no tiene todos los valores nulos\n",
    "    if df_train[col].dropna().empty:\n",
    "        continue\n",
    "\n",
    "    plt.subplot(2, (len(numerical_cols) + 1) // 2, i + 1)\n",
    "    sns.boxplot(x=df_train[col])\n",
    "    plt.title(col)\n",
    "    plt.tight_layout()\n",
    "\n",
    "plt.show()\n"
   ]
  },
  {
   "cell_type": "code",
   "execution_count": 67,
   "metadata": {
    "colab": {
     "base_uri": "https://localhost:8080/"
    },
    "id": "YHRDKKTi27eu",
    "outputId": "b5f29339-45eb-4e00-a4f8-e815386bc385"
   },
   "outputs": [
    {
     "name": "stdout",
     "output_type": "stream",
     "text": [
      "1 outliers encontrados en Episode_Length_minutes\n"
     ]
    }
   ],
   "source": [
    "def get_outlier_bounds(series):\n",
    "    Q1 = series.quantile(0.25)\n",
    "    Q3 = series.quantile(0.75)\n",
    "    IQR = Q3 - Q1\n",
    "    lower = Q1 - 1.5 * IQR\n",
    "    upper = Q3 + 1.5 * IQR\n",
    "    return lower, upper\n",
    "\n",
    "# Ejemplo para Episode_Length_minutes\n",
    "low, high = get_outlier_bounds(df_train[\"Episode_Length_minutes\"])\n",
    "outliers = df_train[(df_train[\"Episode_Length_minutes\"] < low) | (df_train[\"Episode_Length_minutes\"] > high)]\n",
    "print(f\"{len(outliers)} outliers encontrados en Episode_Length_minutes\")\n"
   ]
  },
  {
   "cell_type": "code",
   "execution_count": 69,
   "metadata": {
    "colab": {
     "base_uri": "https://localhost:8080/"
    },
    "id": "Xzv1j0rN27eu",
    "outputId": "53059537-f48d-48f8-9a80-d1c9c004017f"
   },
   "outputs": [
    {
     "name": "stdout",
     "output_type": "stream",
     "text": [
      "Outliers en 'Number_of_Ads': 9 valores\n",
      "Límites aceptables: -3.00 a 5.00\n"
     ]
    }
   ],
   "source": [
    "def get_outlier_bounds(series):\n",
    "    Q1 = series.quantile(0.25)\n",
    "    Q3 = series.quantile(0.75)\n",
    "    IQR = Q3 - Q1\n",
    "    lower = Q1 - 1.5 * IQR\n",
    "    upper = Q3 + 1.5 * IQR\n",
    "    return lower, upper\n",
    "low_ads, high_ads = get_outlier_bounds(df_train[\"Number_of_Ads\"])\n",
    "\n",
    "# Filtrar los outliers\n",
    "ads_outliers = df_train[\n",
    "    (df_train[\"Number_of_Ads\"] < low_ads) |\n",
    "    (df_train[\"Number_of_Ads\"] > high_ads)\n",
    "]\n",
    "\n",
    "print(f\"Outliers en 'Number_of_Ads': {len(ads_outliers)} valores\")\n",
    "print(f\"Límites aceptables: {low_ads:.2f} a {high_ads:.2f}\")\n"
   ]
  },
  {
   "cell_type": "code",
   "execution_count": 71,
   "metadata": {
    "id": "-w6BfxnN27eu"
   },
   "outputs": [],
   "source": [
    "# Función para obtener límites IQR\n",
    "def get_outlier_bounds(series):\n",
    "    Q1 = series.quantile(0.25)\n",
    "    Q3 = series.quantile(0.75)\n",
    "    IQR = Q3 - Q1\n",
    "    lower = Q1 - 1.5 * IQR\n",
    "    upper = Q3 + 1.5 * IQR\n",
    "    return lower, upper\n",
    "\n",
    "#ESTA ES LA PARTE QUE CAMBIE, ANTES TENIA CLIP ACA PARA RECORTAR. AHORA SIMPLEMENTE ELIMINO LOS OUTLIERS PERO SOLO DEL df_train,\n",
    "#ESTA TECNICA NO SE APLICA EN df_test.\n",
    "# Para Episode_Length_minutes\n",
    "low_len, high_len = get_outlier_bounds(df_train[\"Episode_Length_minutes\"])\n",
    "df_train = df_train[(df_train[\"Episode_Length_minutes\"] >= low_len) & (df_train[\"Episode_Length_minutes\"] <= high_len)]\n",
    "\n",
    "# Para Number_of_Ads\n",
    "low_ads, high_ads = get_outlier_bounds(df_train[\"Number_of_Ads\"])\n",
    "df_train = df_train[(df_train[\"Number_of_Ads\"] >= low_ads) & (df_train[\"Number_of_Ads\"] <= high_ads)]\n"
   ]
  },
  {
   "cell_type": "code",
   "execution_count": 73,
   "metadata": {
    "colab": {
     "base_uri": "https://localhost:8080/",
     "height": 806
    },
    "id": "ChjHuC2e27ev",
    "outputId": "680f8c70-9ae2-4ce4-915c-3ef07c3473a4"
   },
   "outputs": [
    {
     "data": {
      "image/png": "[encoded data removed]",
      "text/plain": [
       "<Figure size 1600x2000 with 10 Axes>"
      ]
     },
     "metadata": {},
     "output_type": "display_data"
    }
   ],
   "source": [
    "#REVISAndo nuevamente los outliers\n",
    "import matplotlib.pyplot as plt\n",
    "import seaborn as sns\n",
    "\n",
    "# Recalcular columnas numéricas válidas\n",
    "numerical_cols = df_train.select_dtypes(include=[\"float64\", \"int64\"]).columns.tolist()\n",
    "\n",
    "# Filtrar solo columnas que tienen más de 1 valor y no están completamente vacías\n",
    "valid_cols = [col for col in numerical_cols if df_train[col].dropna().nunique() > 1]\n",
    "\n",
    "# Graficar solo columnas válidas\n",
    "n = len(valid_cols)\n",
    "plt.figure(figsize=(16, 4 * ((n + 1) // 2)))\n",
    "\n",
    "for i, col in enumerate(valid_cols):\n",
    "    plt.subplot(2, (n + 1) // 2, i + 1)\n",
    "    sns.boxplot(x=df_train[col])\n",
    "    plt.title(col)\n",
    "    plt.tight_layout()\n",
    "\n",
    "plt.show()\n"
   ]
  },
  {
   "cell_type": "markdown",
   "metadata": {
    "id": "3eP4Y7Ie27ev"
   },
   "source": [
    "**El boxplot de Guest_Popularity_missing se ve asi pq es una columna booleana o binaria y los boxplots no están hechos para datos binarios**"
   ]
  },
  {
   "cell_type": "code",
   "execution_count": 75,
   "metadata": {},
   "outputs": [],
   "source": [
    "# REVERTIR TRANSFORMACIONES EN df_train\n",
    "\n",
    "df_train[\"Publication_Day\"] = df_train[\"Publication_Day\"].map({\n",
    "    0: \"Sunday\", 1: \"Monday\", 2: \"Tuesday\", 3: \"Wednesday\",\n",
    "    4: \"Thursday\", 5: \"Friday\", 6: \"Saturday\"\n",
    "})\n",
    "\n",
    "df_train[\"Publication_Time\"] = df_train[\"Publication_Time\"].map({\n",
    "    0: \"Morning\", 1: \"Afternoon\", 2: \"Evening\", 3: \"Night\"\n",
    "})\n",
    "\n",
    "df_train[\"Episode_Sentiment\"] = df_train[\"Episode_Sentiment\"].map({\n",
    "    0: \"Negative\", 1: \"Neutral\", 2: \"Positive\"\n",
    "})\n",
    "\n",
    "df_train[\"Genre\"] = df_train[\"Genre\"].map({\n",
    "    0: \"Sports\",\n",
    "    1: \"Technology\",\n",
    "    2: \"True Crime\",\n",
    "    3: \"Lifestyle\",\n",
    "    4: \"Comedy\",\n",
    "    5: \"Business\",\n",
    "    6: \"Health\",\n",
    "    7: \"News\",\n",
    "    8: \"Music\",\n",
    "    9: \"Education\"\n",
    "})\n",
    "\n",
    "\n",
    "# REVERTIR TRANSFORMACIONES EN df_test\n",
    "\n",
    "df_test[\"Publication_Day\"] = df_test[\"Publication_Day\"].map({\n",
    "    0: \"Sunday\", 1: \"Monday\", 2: \"Tuesday\", 3: \"Wednesday\",\n",
    "    4: \"Thursday\", 5: \"Friday\", 6: \"Saturday\"\n",
    "})\n",
    "\n",
    "df_test[\"Publication_Time\"] = df_test[\"Publication_Time\"].map({\n",
    "    0: \"Morning\", 1: \"Afternoon\", 2: \"Evening\", 3: \"Night\"\n",
    "})\n",
    "\n",
    "df_test[\"Episode_Sentiment\"] = df_test[\"Episode_Sentiment\"].map({\n",
    "    0: \"Negative\", 1: \"Neutral\", 2: \"Positive\"\n",
    "})\n",
    "\n",
    "df_test[\"Genre\"] = df_test[\"Genre\"].map({\n",
    "    0: \"Sports\",\n",
    "    1: \"Technology\",\n",
    "    2: \"True Crime\",\n",
    "    3: \"Lifestyle\",\n",
    "    4: \"Comedy\",\n",
    "    5: \"Business\",\n",
    "    6: \"Health\",\n",
    "    7: \"News\",\n",
    "    8: \"Music\",\n",
    "    9: \"Education\"\n",
    "})\n"
   ]
  },
  {
   "cell_type": "code",
   "execution_count": 77,
   "metadata": {},
   "outputs": [],
   "source": [
    "# Exportar dataset limpio para visualización en Power BI\n",
    "df_train.to_csv(\"podcast_dataset_powerbi.csv\", index=False)"
   ]
  },
  {
   "cell_type": "code",
   "execution_count": null,
   "metadata": {
    "id": "S7ECkXzV27ev"
   },
   "outputs": [],
   "source": [
    "# Aqui creo nuevas variables para mejorar el desempeño del modelo\n",
    "df_train[\"Length_per_Ad\"] = df_train[\"Episode_Length_minutes\"] / (df_train[\"Number_of_Ads\"] + 1)\n",
    "df_test[\"Length_per_Ad\"] = df_test[\"Episode_Length_minutes\"] / (df_test[\"Number_of_Ads\"] + 1)"
   ]
  },
  {
   "cell_type": "code",
   "execution_count": null,
   "metadata": {
    "colab": {
     "base_uri": "https://localhost:8080/"
    },
    "id": "m_spzyZT27ev",
    "outputId": "9024c960-c9fe-43da-94a5-08cca08627c0"
   },
   "outputs": [],
   "source": [
    "from sklearn.model_selection import train_test_split\n",
    "\n",
    "# --- Paso 1: Separar features (X) y target (y) ---\n",
    "X = df_train.drop([\"id\", \"Listening_Time_minutes\"], axis=1)\n",
    "y = df_train[\"Listening_Time_minutes\"]\n",
    "\n",
    "# --- Paso 2: Dividir en entrenamiento y validación (80/20) ---\n",
    "X_train, X_val, y_train, y_val = train_test_split(X, y, test_size=0.2, random_state=42)\n",
    "\n",
    "# --- (Opcional) Verificar tamaños ---\n",
    "print(\"X_train shape:\", X_train.shape)\n",
    "print(\"X_val shape:\", X_val.shape)\n",
    "print(\"y_train shape:\", y_train.shape)\n",
    "print(\"y_val shape:\", y_val.shape)"
   ]
  },
  {
   "cell_type": "code",
   "execution_count": null,
   "metadata": {
    "colab": {
     "base_uri": "https://localhost:8080/"
    },
    "id": "NM2SFCEE27ew",
    "outputId": "1c1e0f5d-75d1-4426-9f14-1f984cb59d37"
   },
   "outputs": [],
   "source": [
    "#modelo randomforest listo para entrenar\n",
    "from sklearn.ensemble import RandomForestRegressor\n",
    "from sklearn.metrics import mean_squared_error\n",
    "\n",
    "# Entrenar modelo\n",
    "rf = RandomForestRegressor(random_state=42)\n",
    "rf.fit(X_train, y_train)\n",
    "\n",
    "# Predecir y evaluar\n",
    "rf_preds = rf.predict(X_val)\n",
    "rf_rmse = np.sqrt(mean_squared_error(y_val, rf_preds))\n",
    "print(\"Random Forest RMSE:\", rf_rmse)\n"
   ]
  },
  {
   "cell_type": "code",
   "execution_count": null,
   "metadata": {
    "colab": {
     "base_uri": "https://localhost:8080/"
    },
    "id": "nIvzjjy927ew",
    "outputId": "f0e15440-a7e4-46b0-ae8b-8175fecf23a6"
   },
   "outputs": [],
   "source": [
    "#Modelo lightGBM listo para entrenar\n",
    "from lightgbm import LGBMRegressor\n",
    "from sklearn.metrics import mean_squared_error\n",
    "\n",
    "# Entrenar el modelo\n",
    "lgbm = LGBMRegressor(random_state=42)\n",
    "lgbm.fit(X_train, y_train)\n",
    "\n",
    "# Predecir en el conjunto de validación\n",
    "lgbm_preds = lgbm.predict(X_val)\n",
    "\n",
    "# Evaluar con RMSE (root mean squared error)\n",
    "lgbm_rmse = np.sqrt(mean_squared_error(y_val, lgbm_preds))\n",
    "print(\"LightGBM RMSE:\", lgbm_rmse)\n"
   ]
  },
  {
   "cell_type": "code",
   "execution_count": null,
   "metadata": {
    "colab": {
     "base_uri": "https://localhost:8080/",
     "height": 468
    },
    "id": "eP9Oo-zD27ew",
    "outputId": "08b13892-7004-4a29-8b3f-fd6d9b32de1b"
   },
   "outputs": [],
   "source": [
    "#Aqui grafico importancia de variables para random forest\n",
    "import matplotlib.pyplot as plt\n",
    "import pandas as pd\n",
    "\n",
    "# Para Random Forest\n",
    "importances = rf.feature_importances_\n",
    "features = X_train.columns\n",
    "rf_importance_df = pd.DataFrame({\"Feature\": features, \"Importance\": importances})\n",
    "rf_importance_df.sort_values(by=\"Importance\", ascending=False).head(10)\n",
    "\n",
    "# Gráfico\n",
    "rf_importance_df.sort_values(by=\"Importance\", ascending=True).tail(10).plot.barh(x='Feature', y='Importance', figsize=(8,5))\n",
    "plt.title(\"Random Forest - Importancia de variables\")\n",
    "plt.show()\n"
   ]
  },
  {
   "cell_type": "code",
   "execution_count": null,
   "metadata": {
    "id": "IMkea1HO27ew"
   },
   "outputs": [],
   "source": [
    "#Tuning con RandomizedSearchCV para randomforest(se demora mucho)\n",
    "from sklearn.model_selection import RandomizedSearchCV\n",
    "from sklearn.ensemble import RandomForestRegressor\n",
    "import numpy as np\n",
    "\n",
    "# Definir el espacio de búsqueda\n",
    "rf_param_grid = {\n",
    "    'n_estimators': [100, 200, 300],\n",
    "    'max_depth': [10, 20, 30, None],\n",
    "    'max_features': ['auto', 'sqrt'],\n",
    "    'min_samples_leaf': [1, 2, 4]\n",
    "}\n",
    "\n",
    "# Randomized search\n",
    "rf_random = RandomizedSearchCV(\n",
    "    estimator=RandomForestRegressor(random_state=42),\n",
    "    param_distributions=rf_param_grid,\n",
    "    n_iter=20,  # Número de combinaciones aleatorias\n",
    "    scoring='neg_root_mean_squared_error',\n",
    "    cv=3,\n",
    "    verbose=1,\n",
    "    random_state=42,\n",
    "    n_jobs=-1\n",
    ")\n",
    "\n",
    "# Entrenar búsqueda\n",
    "rf_random.fit(X_train, y_train)\n",
    "\n",
    "# Mejor modelo\n",
    "best_rf = rf_random.best_estimator_\n",
    "print(\"Mejor Random Forest:\", rf_random.best_params_)\n"
   ]
  },
  {
   "cell_type": "code",
   "execution_count": null,
   "metadata": {
    "id": "rapw45z927e6"
   },
   "outputs": [],
   "source": [
    "#Tuning con RandomizedSearchCV apara lightGBM (se demora mucho)\n",
    "from lightgbm import LGBMRegressor\n",
    "\n",
    "lgbm_param_grid = {\n",
    "    'n_estimators': [100, 300, 500],\n",
    "    'max_depth': [5, 10, 20, -1],\n",
    "    'learning_rate': [0.01, 0.05, 0.1],\n",
    "    'num_leaves': [15, 31, 50],\n",
    "    'min_child_samples': [5, 10, 20]\n",
    "}\n",
    "\n",
    "lgbm_random = RandomizedSearchCV(\n",
    "    estimator=LGBMRegressor(random_state=42),\n",
    "    param_distributions=lgbm_param_grid,\n",
    "    n_iter=20,\n",
    "    scoring='neg_root_mean_squared_error',\n",
    "    cv=3,\n",
    "    verbose=1,\n",
    "    random_state=42,\n",
    "    n_jobs=-1\n",
    ")\n",
    "\n",
    "lgbm_random.fit(X_train, y_train)\n",
    "\n",
    "best_lgbm = lgbm_random.best_estimator_\n",
    "print(\"Mejor LightGBM:\", lgbm_random.best_params_)\n"
   ]
  },
  {
   "cell_type": "code",
   "execution_count": null,
   "metadata": {
    "id": "sFIaJWU727e6"
   },
   "outputs": [],
   "source": [
    "# Reentrenar con todo el set\n",
    "X_full = df_train.drop(columns=[\"id\", \"Listening_Time_minutes\"])\n",
    "y_full = df_train[\"Listening_Time_minutes\"]\n",
    "\n",
    "rf_final = RandomForestRegressor(random_state=42)\n",
    "rf_final.fit(X_full, y_full)\n",
    "\n",
    "# Predecir sobre test\n",
    "X_test = df_test.drop(columns=[\"id\"])\n",
    "rf_predictions = rf_final.predict(X_test)\n",
    "\n",
    "# Crear archivo CSV\n",
    "submission = pd.DataFrame({\n",
    "    \"id\": df_test[\"id\"],\n",
    "    \"Listening_Time_minutes\": rf_predictions\n",
    "})\n",
    "submission.to_csv(\"submission_rf.csv\", index=False)"
   ]
  },
  {
   "cell_type": "code",
   "execution_count": null,
   "metadata": {
    "id": "LHuA4_NJ27e6",
    "outputId": "244fc84e-5574-4ef9-c875-8f92e6defbbe"
   },
   "outputs": [],
   "source": [
    "submission.head()"
   ]
  },
  {
   "cell_type": "code",
   "execution_count": null,
   "metadata": {
    "id": "7iAFav-fLwX5"
   },
   "outputs": [],
   "source": [
    "from IPython.display import FileLink\n",
    "\n",
    "# Generar un enlace de descarga para el archivo\n",
    "FileLink(\"submission.csv\")\n"
   ]
  }
 ],
 "metadata": {
  "colab": {
   "provenance": []
  },
  "kaggle": {
   "accelerator": "none",
   "dataSources": [
    {
     "databundleVersionId": 11351736,
     "sourceId": 91715,
     "sourceType": "competition"
    }
   ],
   "dockerImageVersionId": 31012,
   "isGpuEnabled": false,
   "isInternetEnabled": false,
   "language": "python",
   "sourceType": "notebook"
  },
  "kernelspec": {
   "display_name": "Python 3 (ipykernel)",
   "language": "python",
   "name": "python3"
  },
  "language_info": {
   "codemirror_mode": {
    "name": "ipython",
    "version": 3
   },
   "file_extension": ".py",
   "mimetype": "text/x-python",
   "name": "python",
   "nbconvert_exporter": "python",
   "pygments_lexer": "ipython3",
   "version": "3.12.4"
  }
 },
 "nbformat": 4,
 "nbformat_minor": 4
}
